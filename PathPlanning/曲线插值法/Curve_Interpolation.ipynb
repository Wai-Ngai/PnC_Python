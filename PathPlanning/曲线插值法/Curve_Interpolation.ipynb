{
 "cells": [
  {
   "cell_type": "markdown",
   "metadata": {},
   "source": [
    "### 五次多项式曲线插值法轨迹规划\n",
    "\n",
    "\n",
    "<center><img src=\"https://img-blog.csdnimg.cn/3f4a7ba9ed7042fbab92a5a797361af9.png\" width=40%>"
   ]
  },
  {
   "cell_type": "markdown",
   "metadata": {},
   "source": [
    "![在这里插入图片描述](https://img-blog.csdnimg.cn/5f92a5b2e03f4574aff9cf3b59bfc3f5.png)"
   ]
  },
  {
   "cell_type": "code",
   "execution_count": 129,
   "metadata": {},
   "outputs": [],
   "source": [
    "import numpy as np\n",
    "import matplotlib.pyplot as plt\n"
   ]
  },
  {
   "cell_type": "markdown",
   "metadata": {},
   "source": [
    "### 初始参数设置"
   ]
  },
  {
   "cell_type": "code",
   "execution_count": 130,
   "metadata": {},
   "outputs": [],
   "source": [
    "# 场景定义\n",
    "# 换道场景路段与车辆相关参数的定义\n",
    "d = 3.5          # 道路标准宽度\n",
    "len_line = 30    # 直线段长度\n",
    "W = 1.75         # 车宽\n",
    "L = 4.7          # 车长\n",
    "\n",
    "# 车辆换道初始状态与终点期望状态\n",
    "t0 = 0\n",
    "t1 = 3\n",
    "state_t0 = np.array([0, -d/2, 5, 0, 0, 0])  # 分别表示小车的x,y; vx,vy; ax,ay\n",
    "state_t1 = np.array([20, d/2, 5, 0, 0, 0])\n"
   ]
  },
  {
   "cell_type": "markdown",
   "metadata": {},
   "source": [
    "### 五次多项式轨迹生成"
   ]
  },
  {
   "cell_type": "markdown",
   "metadata": {},
   "source": [
    "计算A和B两个系数矩阵"
   ]
  },
  {
   "cell_type": "markdown",
   "metadata": {},
   "source": [
    "![在这里插入图片描述](https://img-blog.csdnimg.cn/9880417bc666411f82ee714f315a2dc1.png)"
   ]
  },
  {
   "cell_type": "code",
   "execution_count": 131,
   "metadata": {},
   "outputs": [],
   "source": [
    "\"\"\"计算A和B两个系数矩阵\"\"\"\n",
    "## 把起末两点的横纵向方程统一用矩阵表达\n",
    "X = np.concatenate((np.array([state_t0[i] for i in range(6) if i%2==0]),np.array([state_t1[i] for i in range(6) if i%2==0])))\n",
    "Y = np.concatenate((np.array([state_t0[i] for i in range(6) if i%2!=0]),np.array([state_t1[i] for i in range(6) if i%2!=0])))\n",
    "\n",
    "\n",
    "T = np.matrix([\n",
    "    [t0 ** 5,t0 ** 4,t0 ** 3,t0 ** 2,t0,1],\n",
    "    [5 * t0 ** 4,4 * t0 ** 3,3 * t0 ** 2,2 * t0,1,0],\n",
    "    [20 * t0 ** 3,12 * t0 ** 2,6 * t0,1,0,0],\n",
    "    [t1 ** 5,t1 ** 4,t1 ** 3,t1 ** 2,t1,1],\n",
    "    [5 * t1 ** 4,4 * t1 ** 3,3 * t1 ** 2,2 * t1,1,0],\n",
    "    [20 * t1 ** 3,12 * t1 ** 2,6 * t1,1,0,0]\n",
    "    ])\n",
    "# # 解法1\n",
    "# A=np.linalg.pinv(T)@X\n",
    "# B=np.linalg.pinv(T)@Y.T\n",
    "# A=A.T\n",
    "# B=B.T\n",
    "\n",
    "# 解法2\n",
    "A = np.linalg.solve(T,X)\n",
    "B = np.linalg.solve(T,Y)\n"
   ]
  },
  {
   "cell_type": "markdown",
   "metadata": {},
   "source": [
    "将时间从t0到t1离散化，获得离散时刻的轨迹坐标"
   ]
  },
  {
   "cell_type": "code",
   "execution_count": 132,
   "metadata": {},
   "outputs": [],
   "source": [
    "# 将时间从t0到t1离散化，获得离散时刻的轨迹坐标\n",
    "t = np.transpose((np.arange(t0,t1+0.05,0.05)))\n",
    "path = np.zeros((len(t),4)) # 1-4列分别存放x,y,vx,vy \n",
    "\n",
    "for i in range(len(t)):\n",
    "    # 纵向位置坐标\n",
    "    path[i,0] = np.array([t[i] ** 5,t[i] ** 4,t[i] ** 3,t[i] ** 2,t[i],1]) @ A  # @符号是矩阵相乘的意思\n",
    "    # 横向位置坐标\n",
    "    path[i,1] = np.array([t[i] ** 5,t[i] ** 4,t[i] ** 3,t[i] ** 2,t[i],1]) @ B\n",
    "    # 纵向速度\n",
    "    path[i,2] = np.array([5 * t[i] ** 4,4 * t[i] ** 3,3 * t[i] ** 2,2 * t[i],1,0]) @ A\n",
    "    # 横向速度\n",
    "    path[i,3] = np.array([5 * t[i] ** 4,4 * t[i] ** 3,3 * t[i] ** 2,2 * t[i],1,0]) @ B"
   ]
  },
  {
   "cell_type": "code",
   "execution_count": 135,
   "metadata": {},
   "outputs": [
    {
     "data": {
      "text/plain": [
       "array([[-5., -4.],\n",
       "       [-5.,  4.],\n",
       "       [30.,  4.],\n",
       "       [30., -4.]])"
      ]
     },
     "execution_count": 135,
     "metadata": {},
     "output_type": "execute_result"
    }
   ],
   "source": [
    "# 场景示意图\n",
    "GreyZone = np.array([[- 5,- d - 0.5],[- 5,d + 0.5],[len_line,d + 0.5],[len_line,- d - 0.5]])\n",
    "GreyZone"
   ]
  },
  {
   "cell_type": "markdown",
   "metadata": {},
   "source": [
    "![在这里插入图片描述](https://img-blog.csdnimg.cn/f0acd822cc8c41b4932c97636a0a5076.png)"
   ]
  },
  {
   "cell_type": "code",
   "execution_count": 134,
   "metadata": {},
   "outputs": [
    {
     "name": "stderr",
     "output_type": "stream",
     "text": [
      "C:\\Users\\CHH3213\\AppData\\Local\\Temp\\ipykernel_13084\\2938634167.py:35: UserWarning: Glyph 27178 (\\N{CJK UNIFIED IDEOGRAPH-6A2A}) missing from current font.\n",
      "  plt.savefig(\"横向速度.png\")\n",
      "C:\\Users\\CHH3213\\AppData\\Local\\Temp\\ipykernel_13084\\2938634167.py:35: UserWarning: Glyph 21521 (\\N{CJK UNIFIED IDEOGRAPH-5411}) missing from current font.\n",
      "  plt.savefig(\"横向速度.png\")\n",
      "C:\\Users\\CHH3213\\AppData\\Local\\Temp\\ipykernel_13084\\2938634167.py:35: UserWarning: Glyph 36895 (\\N{CJK UNIFIED IDEOGRAPH-901F}) missing from current font.\n",
      "  plt.savefig(\"横向速度.png\")\n",
      "C:\\Users\\CHH3213\\AppData\\Local\\Temp\\ipykernel_13084\\2938634167.py:35: UserWarning: Glyph 24230 (\\N{CJK UNIFIED IDEOGRAPH-5EA6}) missing from current font.\n",
      "  plt.savefig(\"横向速度.png\")\n",
      "C:\\Users\\CHH3213\\AppData\\Local\\Temp\\ipykernel_13084\\2938634167.py:44: UserWarning: Glyph 32437 (\\N{CJK UNIFIED IDEOGRAPH-7EB5}) missing from current font.\n",
      "  plt.savefig(\"纵向速度.png\")\n",
      "C:\\Users\\CHH3213\\AppData\\Local\\Temp\\ipykernel_13084\\2938634167.py:44: UserWarning: Glyph 21521 (\\N{CJK UNIFIED IDEOGRAPH-5411}) missing from current font.\n",
      "  plt.savefig(\"纵向速度.png\")\n",
      "C:\\Users\\CHH3213\\AppData\\Local\\Temp\\ipykernel_13084\\2938634167.py:44: UserWarning: Glyph 36895 (\\N{CJK UNIFIED IDEOGRAPH-901F}) missing from current font.\n",
      "  plt.savefig(\"纵向速度.png\")\n",
      "C:\\Users\\CHH3213\\AppData\\Local\\Temp\\ipykernel_13084\\2938634167.py:44: UserWarning: Glyph 24230 (\\N{CJK UNIFIED IDEOGRAPH-5EA6}) missing from current font.\n",
      "  plt.savefig(\"纵向速度.png\")\n"
     ]
    },
    {
     "data": {
      "image/png": "[encoded data removed]",
      "text/plain": [
       "<Figure size 432x288 with 1 Axes>"
      ]
     },
     "metadata": {
      "needs_background": "light"
     },
     "output_type": "display_data"
    },
    {
     "name": "stderr",
     "output_type": "stream",
     "text": [
      "d:\\ProgramData\\Anaconda3\\envs\\gobigger\\lib\\site-packages\\IPython\\core\\pylabtools.py:151: UserWarning: Glyph 27178 (\\N{CJK UNIFIED IDEOGRAPH-6A2A}) missing from current font.\n",
      "  fig.canvas.print_figure(bytes_io, **kw)\n",
      "d:\\ProgramData\\Anaconda3\\envs\\gobigger\\lib\\site-packages\\IPython\\core\\pylabtools.py:151: UserWarning: Glyph 21521 (\\N{CJK UNIFIED IDEOGRAPH-5411}) missing from current font.\n",
      "  fig.canvas.print_figure(bytes_io, **kw)\n",
      "d:\\ProgramData\\Anaconda3\\envs\\gobigger\\lib\\site-packages\\IPython\\core\\pylabtools.py:151: UserWarning: Glyph 36895 (\\N{CJK UNIFIED IDEOGRAPH-901F}) missing from current font.\n",
      "  fig.canvas.print_figure(bytes_io, **kw)\n",
      "d:\\ProgramData\\Anaconda3\\envs\\gobigger\\lib\\site-packages\\IPython\\core\\pylabtools.py:151: UserWarning: Glyph 24230 (\\N{CJK UNIFIED IDEOGRAPH-5EA6}) missing from current font.\n",
      "  fig.canvas.print_figure(bytes_io, **kw)\n"
     ]
    },
    {
     "data": {
      "image/png": "[encoded data removed]",
      "text/plain": [
       "<Figure size 432x288 with 1 Axes>"
      ]
     },
     "metadata": {
      "needs_background": "light"
     },
     "output_type": "display_data"
    },
    {
     "name": "stderr",
     "output_type": "stream",
     "text": [
      "d:\\ProgramData\\Anaconda3\\envs\\gobigger\\lib\\site-packages\\IPython\\core\\pylabtools.py:151: UserWarning: Glyph 32437 (\\N{CJK UNIFIED IDEOGRAPH-7EB5}) missing from current font.\n",
      "  fig.canvas.print_figure(bytes_io, **kw)\n"
     ]
    },
    {
     "data": {
      "image/png": "[encoded data removed]",
      "text/plain": [
       "<Figure size 432x288 with 1 Axes>"
      ]
     },
     "metadata": {
      "needs_background": "light"
     },
     "output_type": "display_data"
    }
   ],
   "source": [
    "## 画场景示意图\n",
    "plt.figure(1)\n",
    "# 画灰色路面图\n",
    "GreyZone = np.array([[- 5,- d - 0.5],[- 5,d + 0.5],[len_line,d + 0.5],[len_line,- d - 0.5]])\n",
    "plt.fill(GreyZone[:,0],GreyZone[:,1],'gray')\n",
    "\n",
    "# 画小车\n",
    "plt.fill(np.array([state_t1[0],state_t1[0],state_t1[0] + L,state_t1[0] + L]),np.array([- d / 2 - W / 2,- d / 2 + W / 2,- d / 2 + W / 2,- d / 2 - W / 2]),'b')\n",
    "plt.fill(np.array([state_t0[0],state_t0[0],state_t0[0] - L,state_t0[0] - L]),np.array([- d / 2 - W / 2,- d / 2 + W / 2,- d / 2 + W / 2,- d / 2 - W / 2]),'y')\n",
    "# 画分界线\n",
    "plt.plot(np.array([- 5,len_line]),np.array([0,0]),'w--')\n",
    "\n",
    "plt.plot(np.array([- 5,len_line]),np.array([d,d]),'w')\n",
    "\n",
    "plt.plot(np.array([- 5,len_line]),np.array([- d,- d]),'w')\n",
    "\n",
    "# 设置坐标轴显示范围\n",
    "plt.axis('equal')\n",
    "\n",
    "\n",
    "\n",
    "\n",
    "# 画换道轨迹\n",
    "plt.plot(path[:,0],path[:,1],'r--')\n",
    "plt.savefig(\"场景示意图.png\")\n",
    "\n",
    "## 分析速度\n",
    "\n",
    "# 横向速度\n",
    "plt.figure(2)\n",
    "plt.title(\"横向速度\")\n",
    "plt.plot(t,path[:,3],'k')\n",
    "plt.xlabel('time/s ')\n",
    "plt.ylabel('m/s ')\n",
    "plt.savefig(\"横向速度.png\")\n",
    "\n",
    "# 纵向速度\n",
    "plt.figure(3)\n",
    "plt.title(\"纵向速度\")\n",
    "plt.plot(t,path[:,2],'k')\n",
    "plt.xlabel('time/s ')\n",
    "plt.ylabel('m/s ')\n",
    "\n",
    "plt.savefig(\"纵向速度.png\")\n",
    "plt.show()"
   ]
  }
 ],
 "metadata": {
  "interpreter": {
   "hash": "0c7484b3574347463e16b31029466871583b0d4e5c4ad861e8848f2d3746b4de"
  },
  "kernelspec": {
   "display_name": "Python 3.8.12 ('gobigger')",
   "language": "python",
   "name": "python3"
  },
  "language_info": {
   "codemirror_mode": {
    "name": "ipython",
    "version": 3
   },
   "file_extension": ".py",
   "mimetype": "text/x-python",
   "name": "python",
   "nbconvert_exporter": "python",
   "pygments_lexer": "ipython3",
   "version": "3.8.12"
  },
  "orig_nbformat": 4
 },
 "nbformat": 4,
 "nbformat_minor": 2
}
